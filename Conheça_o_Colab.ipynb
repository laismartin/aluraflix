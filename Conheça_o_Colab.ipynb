{
  "cells": [
    {
      "cell_type": "markdown",
      "metadata": {
        "id": "view-in-github",
        "colab_type": "text"
      },
      "source": [
        "<a href=\"https://colab.research.google.com/github/laismartin/aluraflix/blob/main/Conhe%C3%A7a_o_Colab.ipynb\" target=\"_parent\"><img src=\"https://colab.research.google.com/assets/colab-badge.svg\" alt=\"Open In Colab\"/></a>"
      ]
    },
    {
      "cell_type": "markdown",
      "source": [],
      "metadata": {
        "id": "Ajjqwa1ZDGQ7"
      }
    },
    {
      "cell_type": "markdown",
      "source": [
        "## Aula 1"
      ],
      "metadata": {
        "id": "HJSctqRPRSbn"
      }
    },
    {
      "cell_type": "code",
      "source": [
        "print(\"I competição de programação dá Start\")\n"
      ],
      "metadata": {
        "id": "fGgaQUs8Cj2a",
        "colab": {
          "base_uri": "https://localhost:8080/"
        },
        "outputId": "f24605fe-d52c-4281-c665-6d6c81a86500"
      },
      "execution_count": null,
      "outputs": [
        {
          "output_type": "stream",
          "name": "stdout",
          "text": [
            "I competição de programação dá Start\n"
          ]
        }
      ]
    },
    {
      "cell_type": "code",
      "source": [
        "ano = \"II\"\n",
        "print (ano, \"Competição de programação da start\")\n"
      ],
      "metadata": {
        "colab": {
          "base_uri": "https://localhost:8080/"
        },
        "id": "3Ol-uDP2Rrv3",
        "outputId": "0490ccd0-8bd5-4cf7-b88f-b59ff8d5a7ed"
      },
      "execution_count": null,
      "outputs": [
        {
          "output_type": "stream",
          "name": "stdout",
          "text": [
            "II Competição de programação da start\n"
          ]
        }
      ]
    },
    {
      "cell_type": "code",
      "source": [
        "print (f\"{ano} Competição de programação da start\")"
      ],
      "metadata": {
        "colab": {
          "base_uri": "https://localhost:8080/"
        },
        "id": "PkxOF5HmR4sm",
        "outputId": "f057e145-0366-448d-a18c-f1c8156a340f"
      },
      "execution_count": null,
      "outputs": [
        {
          "output_type": "stream",
          "name": "stdout",
          "text": [
            "II Competição de programação da start\n"
          ]
        }
      ]
    },
    {
      "cell_type": "markdown",
      "source": [
        "## Aula 2"
      ],
      "metadata": {
        "id": "sqJNWjLrSZEV"
      }
    },
    {
      "cell_type": "markdown",
      "source": [],
      "metadata": {
        "id": "eUfobQloRoXt"
      }
    },
    {
      "cell_type": "markdown",
      "source": [
        "Uma escola está promovendo uma campanha de incentivo à leitura em que cada estudante recebe pontos ao concluir livros. Esses pontos podem ser trocados por diferentes prêmios da escola, e as categorias de livros têm valores de pontos diferentes. Livros de ficção valem 8 pontos, livros de não ficção valem 8 pontos, e livros infantis valem 6 pontos. O problema é que Rodrigo leu um livro de cada categoria e agora quer saber quantos pontos acumulou com sua leitura."
      ],
      "metadata": {
        "id": "K4z9C7sXSivr"
      }
    },
    {
      "cell_type": "code",
      "source": [
        "\n",
        "livro_ficcao = 10\n",
        "livro_Nficcao = 8\n",
        "livro_infantil = 6"
      ],
      "metadata": {
        "id": "ijqJaDTySjzj"
      },
      "execution_count": null,
      "outputs": []
    },
    {
      "cell_type": "code",
      "source": [
        "pontos_rodrigo = livro_ficcao + livro_Nficcao + livro_infantil\n"
      ],
      "metadata": {
        "id": "rQzAhT9ATMov"
      },
      "execution_count": null,
      "outputs": []
    },
    {
      "cell_type": "code",
      "source": [
        "print(f\"Os pontos totais do Rodrigo são: {pontos_rodrigo}\")"
      ],
      "metadata": {
        "colab": {
          "base_uri": "https://localhost:8080/"
        },
        "id": "SL-HCmUHTUa-",
        "outputId": "bc05a6df-b106-46ff-d3e9-8f14a9243c0d"
      },
      "execution_count": null,
      "outputs": [
        {
          "output_type": "stream",
          "name": "stdout",
          "text": [
            "Os pontos totais do Rodrigo são: 24\n"
          ]
        }
      ]
    },
    {
      "cell_type": "markdown",
      "source": [
        "##AULA 3\n"
      ],
      "metadata": {
        "id": "yJ6CeHN7Tba_"
      }
    },
    {
      "cell_type": "markdown",
      "source": [
        "A turma do segundo ano encontrou um envelope cheio de figurinhas. Para garantir uma divisão justa, todos concordaram com a sugestão de João, o dono do envelope. Cada amigo, exceto João, deve receber exatamente o mesmo número de figurinhas. João deve receber o dobro da quantidade que cada amigo recebe. Pode ser que o fato de João ser o dono do envelope tenha ajudado a convencer os amigos, mas também contribui o fato de que, do jeito proposto, a divisão era exata, sem sobrar nem faltar figurinhas.\n"
      ],
      "metadata": {
        "id": "ttCfO333TlRB"
      }
    },
    {
      "cell_type": "code",
      "source": [
        "total_de_figurinhas = int(input(\"Digite o total de figurinhas: \"))\n",
        "numero_de_amigos = int(input(\"Digite o número de amigos: \"))\n",
        "\n",
        "figurinhas_amigos = total_de_figurinhas // (numero_de_amigos + 2)\n",
        "figurinhas_joao = 2 * figurinhas_amigos\n",
        "\n",
        "print(\"João recebeu\", {figurinhas_joao}, \"figurinhas\")"
      ],
      "metadata": {
        "id": "d75Qa3Z4VAZi",
        "outputId": "52cf05a2-4152-4b42-b185-6006c1c28517",
        "colab": {
          "base_uri": "https://localhost:8080/"
        }
      },
      "execution_count": null,
      "outputs": [
        {
          "output_type": "stream",
          "name": "stdout",
          "text": [
            "Digite o total de figurinhas: 100\n",
            "Digite o número de amigos: 5\n",
            "João recebeu {28} figurinhas\n"
          ]
        }
      ]
    },
    {
      "cell_type": "markdown",
      "source": [
        "##AULA 4"
      ],
      "metadata": {
        "id": "Vlzj6N27VNvv"
      }
    },
    {
      "cell_type": "markdown",
      "source": [
        "A turma de um colégio está organizando uma excursão para a serra e, para chegar ao pico da montanha, todos os alunos e monitores devem usar um bondinho. No entanto, a cabine do bondinho tem uma capacidade máxima de 50 pessoas por viagem. Precisamos criar um programa que verifique se todos os alunos e monitores podem ser transportados em apenas uma viagem."
      ],
      "metadata": {
        "id": "L0NrxM4_VVqg"
      }
    },
    {
      "cell_type": "code",
      "source": [
        "numero_de_alunos = int(input(\"Digite a quantidade de alunos: \"))\n",
        "numero_de_monitores = int(input(\"Digite a quantidade de monitores: \"))\n",
        "resposta_positiva = \"sim, pode ir\"\n",
        "resposta_negativa = \"não pode ir\"\n",
        "\n",
        "\n",
        "if numero_de_alunos + numero_de_monitores <= 50:\n",
        "    print(resposta_positiva)\n",
        "else:\n",
        "    print(resposta_negativa)\n"
      ],
      "metadata": {
        "id": "hJZN66F5VaGp",
        "outputId": "6d2440d9-3de4-4fbe-aec2-53d6308e16a8",
        "colab": {
          "base_uri": "https://localhost:8080/"
        }
      },
      "execution_count": null,
      "outputs": [
        {
          "output_type": "stream",
          "name": "stdout",
          "text": [
            "Digite a quantidade de alunos: 50\n",
            "Digite a quantidade de monitores: 10\n",
            "não pode ir\n"
          ]
        }
      ]
    },
    {
      "cell_type": "markdown",
      "source": [
        "#AULA 5"
      ],
      "metadata": {
        "id": "9zDWyS8ESlmZ"
      }
    },
    {
      "cell_type": "markdown",
      "source": [
        "Flipper é um jogo em que uma bolinha de metal cai por um labirinto até chegar à parte inferior. O jogador ganha pontos dependendo do caminho que a bolinha percorre, podendo controlar o trajeto movendo algumas portinhas no labirinto. Cada portinha pode estar em duas posições: 0, virada para a esquerda, ou 1, virada para a direita. No Flipper mostrado na imagem, há duas portinhas. A portinha P está na posição 1, virada para a direita, e a portinha R está na posição 0, virada para a esquerda. Isso faz com que a bolinha caia no caminho B."
      ],
      "metadata": {
        "id": "Guu00-ORSpfx"
      }
    },
    {
      "cell_type": "code",
      "source": [
        "P = int(input(\"Digite a posição da portinha P (0 ou 1): \"))\n",
        "R = int(input(\"Digite a posição da portinha R (0 ou 1): \"))\n",
        "\n",
        "\n",
        "if P==0:\n",
        "    print(\"C\")\n",
        "elif P==0 and R==1:\n",
        "    print (\"C\")\n",
        "elif P==1 and R==1:\n",
        "    print(\"A\")\n",
        "elif P==1 and R==0:\n",
        "    print(\"B\")"
      ],
      "metadata": {
        "colab": {
          "base_uri": "https://localhost:8080/"
        },
        "id": "xu_BMllWSwH6",
        "outputId": "d888c25a-cff5-4835-df36-ec2ee0a50532"
      },
      "execution_count": null,
      "outputs": [
        {
          "output_type": "stream",
          "name": "stdout",
          "text": [
            "Digite a posição da portinha P (0 ou 1): 1\n",
            "Digite a posição da portinha R (0 ou 1): 0\n",
            "B\n"
          ]
        }
      ]
    },
    {
      "cell_type": "markdown",
      "source": [
        "# Aula 6"
      ],
      "metadata": {
        "id": "xz7Oo0jkYy13"
      }
    },
    {
      "cell_type": "markdown",
      "source": [
        "Dona Mônica é mãe de três filhos com idades diferentes. Este ano, a soma das idades de seus três filhos é igual à idade dela. Devemos escrever um programa que, dada a idade de Dona Mônica e as idades conhecidas de dois de seus filhos, determine a idade do terceiro filho e identifique quem é o mais velho."
      ],
      "metadata": {
        "id": "mrZDCicaZOWz"
      }
    },
    {
      "cell_type": "code",
      "source": [
        "def calcula_idade_maior(idade_monica, idade_filho1, idade_filho2):\n",
        "  idade_filho3 = idade_monica - idade_filho1 - idade_filho2\n",
        "\n",
        "  idade_maxima = max(idade_filho1, idade_filho2, idade_filho3)\n",
        "\n",
        "  return idade_filho3, idade_maxima\n",
        "calcula_idade_maior(68, 12, 30)"
      ],
      "metadata": {
        "id": "3X0k2wMiZRui",
        "outputId": "32c3514e-1a10-4952-dd40-8639c14a5f17",
        "colab": {
          "base_uri": "https://localhost:8080/"
        }
      },
      "execution_count": 8,
      "outputs": [
        {
          "output_type": "execute_result",
          "data": {
            "text/plain": [
              "(26, 30)"
            ]
          },
          "metadata": {},
          "execution_count": 8
        }
      ]
    },
    {
      "cell_type": "markdown",
      "source": [
        "#AULA 7"
      ],
      "metadata": {
        "id": "yiqapH-zaAqJ"
      }
    },
    {
      "cell_type": "markdown",
      "source": [
        "A tabuada é uma ferramenta importante para facilitar a multiplicação de números. Em vez de realizar as contas manualmente, podemos criar um programa que mostre a tabuada de qualquer número de forma rápida e prática. Para isso, utilizaremos um programa de computador que, ao receber um número, exibe a tabuada desse número, ou seja, o resultado das multiplicações desse número com os números de 1 a 10.\n"
      ],
      "metadata": {
        "id": "wmY8xSDCaGaH"
      }
    },
    {
      "cell_type": "markdown",
      "source": [
        "# Entrada = numero inteiro (2)\n",
        "# Saída = 2 x 1 = 2"
      ],
      "metadata": {
        "id": "xfp73eFCaPy_"
      }
    },
    {
      "cell_type": "code",
      "source": [
        "def calcula_tabuada(número):\n",
        "  for i in range(1, 11):\n",
        "      print(f\"{número} x {i} = {número * i}\")"
      ],
      "metadata": {
        "id": "TqVKsh6JaaHT"
      },
      "execution_count": 9,
      "outputs": []
    },
    {
      "cell_type": "code",
      "source": [
        "calcula_tabuada(2)\n"
      ],
      "metadata": {
        "id": "knx3JS82ai7h",
        "outputId": "417d10ac-7409-4945-f35f-aa1398fe661e",
        "colab": {
          "base_uri": "https://localhost:8080/"
        }
      },
      "execution_count": 10,
      "outputs": [
        {
          "output_type": "stream",
          "name": "stdout",
          "text": [
            "2 x 1 = 2\n",
            "2 x 2 = 4\n",
            "2 x 3 = 6\n",
            "2 x 4 = 8\n",
            "2 x 5 = 10\n",
            "2 x 6 = 12\n",
            "2 x 7 = 14\n",
            "2 x 8 = 16\n",
            "2 x 9 = 18\n",
            "2 x 10 = 20\n"
          ]
        }
      ]
    },
    {
      "cell_type": "markdown",
      "source": [
        "# Final"
      ],
      "metadata": {
        "id": "4BnUUet-ax6U"
      }
    }
  ],
  "metadata": {
    "colab": {
      "name": "Conheça o Colab",
      "provenance": [],
      "include_colab_link": true
    },
    "kernelspec": {
      "display_name": "Python 3",
      "name": "python3"
    }
  },
  "nbformat": 4,
  "nbformat_minor": 0
}